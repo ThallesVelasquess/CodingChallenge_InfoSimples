{
 "cells": [
  {
   "cell_type": "code",
   "execution_count": null,
   "id": "311a137a",
   "metadata": {},
   "outputs": [],
   "source": [
    "\"\"\"\n",
    "Nome: Thalles Augusto Moura Velasques\n",
    "LinkedIn: https://www.linkedin.com/in/thallesvelasques/\n",
    "Email: thallesvelasques.contato@gmail.com\n",
    "GitHub: https://github.com/ThallesVelasquess\n",
    "\n",
    "Observações sobre o desafio: O Desafio foi feito por inteiro através do python interativo (arquivo atual), e a entrega final optei por passar o código para esse arquivo .py (denominado como CodeChallenge.py). No meu GitHub, Também está disponibilizado o arquivo atual, testes.ipynb . \n",
    "\"\"\""
   ]
  },
  {
   "cell_type": "code",
   "execution_count": 1,
   "id": "2065e275",
   "metadata": {},
   "outputs": [],
   "source": [
    "# Bibliotecas que devem ser instaladas manualmente\n",
    "from bs4 import BeautifulSoup\n",
    "import requests"
   ]
  },
  {
   "cell_type": "code",
   "execution_count": 2,
   "id": "a671645c",
   "metadata": {},
   "outputs": [],
   "source": [
    "# Biblioteca nativa do sistema\n",
    "import json"
   ]
  },
  {
   "cell_type": "code",
   "execution_count": 3,
   "id": "5bd359e9",
   "metadata": {},
   "outputs": [],
   "source": [
    "# Pegando a url do site\n",
    "url = \"https://infosimples.com/vagas/desafio/commercia/product.html\"\n",
    "# Atribuindo a url ao objeto 'response'\n",
    "response = requests.get(url)"
   ]
  },
  {
   "cell_type": "code",
   "execution_count": 4,
   "id": "ab3c4b4a",
   "metadata": {},
   "outputs": [],
   "source": [
    "# Parse do responses\n",
    "parsed_html = BeautifulSoup(response.content, \"html.parser\")"
   ]
  },
  {
   "cell_type": "code",
   "execution_count": 6,
   "id": "56077908",
   "metadata": {},
   "outputs": [],
   "source": [
    "title = {}\n",
    "# Seleciona o texto da tag 'h2' com id 'product_title'\n",
    "title[\"title\"] = parsed_html.select_one(\"h2#product_title\").get_text()"
   ]
  },
  {
   "cell_type": "code",
   "execution_count": 7,
   "id": "fb22767c",
   "metadata": {},
   "outputs": [
    {
     "data": {
      "text/plain": [
       "{'title': 'Rubber Duck MK Ultra'}"
      ]
     },
     "execution_count": 7,
     "metadata": {},
     "output_type": "execute_result"
    }
   ],
   "source": [
    "title"
   ]
  },
  {
   "cell_type": "code",
   "execution_count": 8,
   "id": "78183bb7",
   "metadata": {},
   "outputs": [],
   "source": [
    "brand = {}\n",
    "# Seleciona o texto da tag 'div' que tem class='brand'\n",
    "brand[\"brand\"] = parsed_html.select_one(\"div.brand\").get_text()"
   ]
  },
  {
   "cell_type": "code",
   "execution_count": 9,
   "id": "668e7a1c",
   "metadata": {},
   "outputs": [
    {
     "data": {
      "text/plain": [
       "{'brand': 'Duck Makers Inc.'}"
      ]
     },
     "execution_count": 9,
     "metadata": {},
     "output_type": "execute_result"
    }
   ],
   "source": [
    "brand"
   ]
  },
  {
   "cell_type": "code",
   "execution_count": 14,
   "id": "75f4add9",
   "metadata": {},
   "outputs": [
    {
     "data": {
      "text/plain": [
       "[<a href=\"#\">Commercia</a>,\n",
       " <a href=\"#\">Health &amp; Care</a>,\n",
       " <a href=\"#\">Bath</a>,\n",
       " <a class=\"bold\" href=\"#\">Rubber Ducks</a>]"
      ]
     },
     "execution_count": 14,
     "metadata": {},
     "output_type": "execute_result"
    }
   ],
   "source": [
    "# Criação do objeto 'link', que armazena todo o conteúdo de caminho: tag 'div' que tem class='container' que contém uma 'nav' que logo\n",
    "# busca todas as tags 'a'\n",
    "links = parsed_html.select_one(\"div.container\").find(\"nav\").find_all(\"a\")\n",
    "links"
   ]
  },
  {
   "cell_type": "code",
   "execution_count": 15,
   "id": "b15902ec",
   "metadata": {},
   "outputs": [],
   "source": [
    "# Criação de uma lista vazia para armazenar o texto de cada link\n",
    "categories = []"
   ]
  },
  {
   "cell_type": "code",
   "execution_count": 16,
   "id": "19cfa275",
   "metadata": {},
   "outputs": [
    {
     "data": {
      "text/plain": [
       "['Commercia', 'Health & Care', 'Bath', 'Rubber Ducks']"
      ]
     },
     "execution_count": 16,
     "metadata": {},
     "output_type": "execute_result"
    }
   ],
   "source": [
    "# Laço for que armazena o texto de cada link a cada vez que roda\n",
    "for link in links:\n",
    "    categories.append(link.get_text())\n",
    "categories"
   ]
  },
  {
   "cell_type": "code",
   "execution_count": 18,
   "id": "f319dfd4",
   "metadata": {},
   "outputs": [
    {
     "data": {
      "text/plain": [
       "{'categories': ['Commercia', 'Health & Care', 'Bath', 'Rubber Ducks']}"
      ]
     },
     "execution_count": 18,
     "metadata": {},
     "output_type": "execute_result"
    }
   ],
   "source": [
    "# Criando um array de strings para 'categories'\n",
    "c = {}\n",
    "c[\"categories\"] = categories\n",
    "c"
   ]
  },
  {
   "cell_type": "code",
   "execution_count": 19,
   "id": "76618d69",
   "metadata": {},
   "outputs": [
    {
     "data": {
      "text/plain": [
       "' Apresentando os Patos de Borracha Quânticos, a última palavra em diversão aquática! Criados pelo excêntrico Dr. Quacksalot, esses patinhos de borracha vão além do comum, com habilidades de fala, dança e personalidades únicas. Com sua durabilidade de alta qualidade, esses patos são garantia de diversão interminável na banheira. Escolha entre uma variedade de cores e estilos e mergulhe na loucura científica do Dr. Quacksalot hoje mesmo! '"
      ]
     },
     "execution_count": 19,
     "metadata": {},
     "output_type": "execute_result"
    }
   ],
   "source": [
    "description = {}\n",
    "# Seleciona o primeiro texto de caminho: tag 'div' que tem class='proddet' e tag 'p'\n",
    "parsed_html.select_one(\"div.proddet\").find_all(\"p\")[0].get_text()"
   ]
  },
  {
   "cell_type": "code",
   "execution_count": 20,
   "id": "4d18fc6d",
   "metadata": {},
   "outputs": [],
   "source": [
    "# Criação e armazenamento do texto de cada parágrafo em dois objetos diferentes\n",
    "# Também é atribuído o .strip() para tirar espaçamentos que tem antes e depois de cada texto\n",
    "texto_desc1 = parsed_html.select_one(\"div.proddet\").find_all(\"p\")[0].get_text().strip()\n",
    "texto_desc2 = parsed_html.select_one(\"div.proddet\").find_all(\"p\")[1].get_text().strip()"
   ]
  },
  {
   "cell_type": "code",
   "execution_count": 139,
   "id": "618f0371",
   "metadata": {},
   "outputs": [
    {
     "data": {
      "text/plain": [
       "'Apresentando os Patos de Borracha Quânticos, a última palavra em diversão aquática! Criados pelo excêntrico Dr. Quacksalot, esses patinhos de borracha vão além do comum, com habilidades de fala, dança e personalidades únicas. Com sua durabilidade de alta qualidade, esses patos são garantia de diversão interminável na banheira. Escolha entre uma variedade de cores e estilos e mergulhe na loucura científica do Dr. Quacksalot hoje mesmo! Cada Patinho de Borracha Quântico vem equipado com um sistema de comunicação interdimensional, permitindo que eles conversem não apenas entre si, mas também com outros objetos inanimados no banheiro - prepare-se para diálogos improváveis entre seu pato de borracha e o sabonete! Além disso, esses patos têm uma habilidade secreta de transformação: basta apertar sua barriguinha e assistir enquanto se transformam em mini submarinos de borracha, prontos para explorar os confins da banheira em busca de aventuras subaquáticas surreais. Com os Patos de Borracha Quânticos, o limite da diversão é apenas sua imaginação (e talvez a sanidade do Dr. Quacksalot)!'"
      ]
     },
     "execution_count": 139,
     "metadata": {},
     "output_type": "execute_result"
    }
   ],
   "source": [
    "# Criando a variavel que devolve o texto de cada parágrafo, acrecentando um espaço entre eles\n",
    "description = texto_desc1 + \" \" + texto_desc2\n",
    "description"
   ]
  },
  {
   "cell_type": "code",
   "execution_count": 22,
   "id": "efb5f453",
   "metadata": {},
   "outputs": [
    {
     "data": {
      "text/plain": [
       "[<div class=\"card-container\">\n",
       " <div class=\"prod-nome\"> Rubber Duck MK Ultra - Original </div>\n",
       " <div class=\"prod-pnow\"> R$ 12,68 </div>\n",
       " <div class=\"prod-pold\"> R$ 16,98 </div>\n",
       " </div>,\n",
       " <div class=\"card-container\">\n",
       " <div class=\"prod-nome\"> Rubber Duck MK Ultra - Summer Version </div>\n",
       " <i>Out of stock</i>\n",
       " </div>,\n",
       " <div class=\"card-container\">\n",
       " <div class=\"prod-nome\"> Rubber Duck MK Ultra - Batman Version </div>\n",
       " <div class=\"prod-pnow\"> R$ 18,98 </div>\n",
       " </div>]"
      ]
     },
     "execution_count": 22,
     "metadata": {},
     "output_type": "execute_result"
    }
   ],
   "source": [
    "# Selecionando a tag 'div' com class 'card-container' \n",
    "parsed_html.select(\"div.card-container\")"
   ]
  },
  {
   "cell_type": "code",
   "execution_count": 23,
   "id": "acdaa720",
   "metadata": {},
   "outputs": [
    {
     "data": {
      "text/plain": [
       "'Rubber Duck MK Ultra - Original'"
      ]
     },
     "execution_count": 23,
     "metadata": {},
     "output_type": "execute_result"
    }
   ],
   "source": [
    "# Selecionando o texto do primeiro elemento da tag 'div' com class 'prod-nome', ja eliminando os espaços com .strip()\n",
    "parsed_html.select(\"div.prod-nome\")[0].get_text().strip()"
   ]
  },
  {
   "cell_type": "code",
   "execution_count": 85,
   "id": "b557621e",
   "metadata": {},
   "outputs": [
    {
     "name": "stdout",
     "output_type": "stream",
     "text": [
      "[{'name': 'Rubber Duck MK Ultra - Original'}, {'name': 'Rubber Duck MK Ultra - Summer Version'}, {'name': 'Rubber Duck MK Ultra - Batman Version'}]\n"
     ]
    }
   ],
   "source": [
    "# Criação da lista 'skus'\n",
    "skus = []\n",
    "\n",
    "# Para cada nome no campo selecionado, pegar o texto dele e adicionar no campo 'nome' da lista 'skus' \n",
    "for name in parsed_html.select(\"div.prod-nome\"):\n",
    "    skus.append({\n",
    "        \"name\": name.get_text().strip()\n",
    "    })\n",
    "print(skus)"
   ]
  },
  {
   "cell_type": "code",
   "execution_count": 86,
   "id": "f08b87b8",
   "metadata": {},
   "outputs": [
    {
     "data": {
      "text/plain": [
       "'R$ 18,98'"
      ]
     },
     "execution_count": 86,
     "metadata": {},
     "output_type": "execute_result"
    }
   ],
   "source": [
    "# Selecionando o texto do segundo elemento da tag 'div' com class 'prod-pnow', ja eliminando os espaços com .strip()\n",
    "parsed_html.select(\"div.prod-pnow\")[1].get_text().strip()"
   ]
  },
  {
   "cell_type": "code",
   "execution_count": 87,
   "id": "6a6b1a4a",
   "metadata": {},
   "outputs": [
    {
     "name": "stdout",
     "output_type": "stream",
     "text": [
      "[{'preço': 12.68}, {'preço': None}, {'preço': 18.98}]\n"
     ]
    }
   ],
   "source": [
    "# Criação da lista 'price_now'\n",
    "price_now = []\n",
    "\n",
    "# Laço for que roda para cada 'container' pertencente a tag 'div' com class 'card-container'\n",
    "for container in parsed_html.select(\"div.card-container\"):\n",
    "    \n",
    "    # Criação da variavel 'pnow_element' que armazena o conteudo da tag 'div' com class 'prod-pnow'\n",
    "    pnow_element = container.select_one('div.prod-pnow')\n",
    "    \n",
    "    if pnow_element:\n",
    "        # Remove \"R$\", espaços, substitui vírgula por ponto e converte para float\n",
    "        preco_float = float(pnow_element.get_text().strip()\n",
    "                            .replace('R$', '')\n",
    "                            .replace(',', '.'))\n",
    "    else:\n",
    "        preco_float = None\n",
    "    \n",
    "    # Incrementa na lista criada 'price_now' a variavel 'preco_float'\n",
    "    price_now.append({\n",
    "        \"preço\": preco_float\n",
    "    })\n",
    "print(price_now)"
   ]
  },
  {
   "cell_type": "code",
   "execution_count": 88,
   "id": "7598e09d",
   "metadata": {},
   "outputs": [
    {
     "name": "stdout",
     "output_type": "stream",
     "text": [
      "[{'name': 'Rubber Duck MK Ultra - Original', 'current_price': 12.68}, {'name': 'Rubber Duck MK Ultra - Summer Version', 'current_price': None}, {'name': 'Rubber Duck MK Ultra - Batman Version', 'current_price': 18.98}]\n"
     ]
    }
   ],
   "source": [
    "# Laço for que itera sobre 'skus' e 'price_now' simultaneamente para adicionar preços atuais\n",
    "for i in range(len(skus)):\n",
    "    # Adiciona o preço atual (price_now[i][\"preço\"]) ao dicionário do produto (skus[i])\n",
    "    skus[i][\"current_price\"] = price_now[i][\"preço\"]\n",
    "print(skus)"
   ]
  },
  {
   "cell_type": "code",
   "execution_count": 89,
   "id": "4fe9cb74",
   "metadata": {},
   "outputs": [
    {
     "name": "stdout",
     "output_type": "stream",
     "text": [
      "[{'preço': 16.98}, {'preço': None}, {'preço': None}]\n"
     ]
    }
   ],
   "source": [
    "# Criação da lista 'price_old'\n",
    "price_old = []\n",
    "\n",
    "# Laço for que roda para cada 'container' pertencente a tag 'div' com class 'card-container'\n",
    "for container in parsed_html.select(\"div.card-container\"):\n",
    "    \n",
    "    # Criação da variavel 'pold_element' que armazena o conteudo da tag 'div' com class 'prod-pold'\n",
    "    pold_element = container.select_one('div.prod-pold')\n",
    "    \n",
    "    if pold_element:\n",
    "        # Remove \"R$\", espaços, substitui vírgula por ponto e converte para float\n",
    "        preco_float = float(pold_element.get_text().strip()\n",
    "                            .replace('R$', '')\n",
    "                            .replace(',', '.'))\n",
    "    else:\n",
    "        preco_float = None\n",
    "    \n",
    "    # Incrementa na lista criada 'price_old' a variavel 'preco_float'\n",
    "    price_old.append({\n",
    "        \"preço\": preco_float\n",
    "    })\n",
    "print(price_old)"
   ]
  },
  {
   "cell_type": "code",
   "execution_count": 90,
   "id": "8749eab0",
   "metadata": {},
   "outputs": [
    {
     "name": "stdout",
     "output_type": "stream",
     "text": [
      "[{'name': 'Rubber Duck MK Ultra - Original', 'current_price': 12.68, 'old_price': 16.98}, {'name': 'Rubber Duck MK Ultra - Summer Version', 'current_price': None, 'old_price': None}, {'name': 'Rubber Duck MK Ultra - Batman Version', 'current_price': 18.98, 'old_price': None}]\n"
     ]
    }
   ],
   "source": [
    "# Laço for que itera sobre 'skus' e 'price_old' simultaneamente para adicionar preços atuais\n",
    "for i in range(len(skus)):\n",
    "    # Adiciona o preço atual (price_old[i][\"preço\"]) ao dicionário do produto (skus[i])\n",
    "    skus[i][\"old_price\"] = price_old[i][\"preço\"]\n",
    "print(skus)"
   ]
  },
  {
   "cell_type": "code",
   "execution_count": 91,
   "id": "090136ee",
   "metadata": {},
   "outputs": [
    {
     "name": "stdout",
     "output_type": "stream",
     "text": [
      "[{'disponivel': 1}, {'disponivel': 0}, {'disponivel': 1}]\n"
     ]
    }
   ],
   "source": [
    "# Criação da lista 'produtos'\n",
    "produtos = []\n",
    "\n",
    "# Laço for que roda para cada 'container' pertencente a tag 'div' com class 'card-container'\n",
    "for container in parsed_html.select(\"div.card-container\"):\n",
    "    \n",
    "    # Variavel que armazenará valor caso tenha, senão armazena 'None'\n",
    "    indisponivel = container.find('i', string='Out of stock') is not None\n",
    "    \n",
    "    # Atribuindo 0 para caso esteja indisponivel, e 1 para caso disponivel\n",
    "    status = 0 if indisponivel else 1\n",
    "    \n",
    "    # Incrementando na lista o 'status' atribuido ao campo de 'disponivel'\n",
    "    produtos.append({\n",
    "        \"disponivel\": status\n",
    "    })\n",
    "print(produtos)"
   ]
  },
  {
   "cell_type": "code",
   "execution_count": 92,
   "id": "ccef9af9",
   "metadata": {},
   "outputs": [
    {
     "name": "stdout",
     "output_type": "stream",
     "text": [
      "[{'name': 'Rubber Duck MK Ultra - Original', 'current_price': 12.68, 'old_price': 16.98, 'available': 1}, {'name': 'Rubber Duck MK Ultra - Summer Version', 'current_price': None, 'old_price': None, 'available': 0}, {'name': 'Rubber Duck MK Ultra - Batman Version', 'current_price': 18.98, 'old_price': None, 'available': 1}]\n"
     ]
    }
   ],
   "source": [
    "# Laço for que itera sobre 'skus' e 'produtos' simultaneamente para adicionar preços atuais\n",
    "for i in range(len(skus)):\n",
    "    # Adiciona o status (produtos[i][\"disponivel\"]) ao dicionário do produto (skus[i])\n",
    "    skus[i][\"available\"] = produtos[i][\"disponivel\"]\n",
    "print(skus)"
   ]
  },
  {
   "cell_type": "code",
   "execution_count": 93,
   "id": "54df26ed",
   "metadata": {},
   "outputs": [
    {
     "name": "stdout",
     "output_type": "stream",
     "text": [
      "[{'name': 'Rubber Duck MK Ultra - Original', 'current_price': 12.68, 'old_price': 16.98, 'available': 1}, {'name': 'Rubber Duck MK Ultra - Summer Version', 'current_price': None, 'old_price': None, 'available': 0}, {'name': 'Rubber Duck MK Ultra - Batman Version', 'current_price': 18.98, 'old_price': None, 'available': 1}]\n"
     ]
    }
   ],
   "source": [
    "# Resultado do array de objetos do campo 'skus'\n",
    "print(skus)"
   ]
  },
  {
   "cell_type": "code",
   "execution_count": 42,
   "id": "bf378f35",
   "metadata": {},
   "outputs": [
    {
     "data": {
      "text/plain": [
       "<table class=\"pure-table pure-table-bordered\">\n",
       "<tr>\n",
       "<td>\n",
       "<b>Color</b>\n",
       "</td>\n",
       "<td>Various</td>\n",
       "</tr>\n",
       "<tr>\n",
       "<td>\n",
       "<b>Material</b>\n",
       "</td>\n",
       "<td>Rubber</td>\n",
       "</tr>\n",
       "<tr>\n",
       "<td>\n",
       "<b>Shape</b>\n",
       "</td>\n",
       "<td>Ducky</td>\n",
       "</tr>\n",
       "<tr>\n",
       "<td>\n",
       "<b>Size</b>\n",
       "</td>\n",
       "<td>Medium</td>\n",
       "</tr>\n",
       "<tr>\n",
       "<td>\n",
       "<b>Weight</b>\n",
       "</td>\n",
       "<td>394 g</td>\n",
       "</tr>\n",
       "<tr>\n",
       "<td>\n",
       "<b>Radioactivity Level</b>\n",
       "</td>\n",
       "<td>Low</td>\n",
       "</tr>\n",
       "<tr>\n",
       "<td>\n",
       "<b>Warranty</b>\n",
       "</td>\n",
       "<td>1 year</td>\n",
       "</tr></table>"
      ]
     },
     "execution_count": 42,
     "metadata": {},
     "output_type": "execute_result"
    }
   ],
   "source": [
    "# Selecionando os dados necessarios para o campo 'properties'\n",
    "parsed_html.select(\"table.pure-table\")[0]"
   ]
  },
  {
   "cell_type": "code",
   "execution_count": 43,
   "id": "4c9187a4",
   "metadata": {},
   "outputs": [
    {
     "data": {
      "text/plain": [
       "[<b>Color</b>,\n",
       " <b>Material</b>,\n",
       " <b>Shape</b>,\n",
       " <b>Size</b>,\n",
       " <b>Weight</b>,\n",
       " <b>Radioactivity Level</b>,\n",
       " <b>Warranty</b>]"
      ]
     },
     "execution_count": 43,
     "metadata": {},
     "output_type": "execute_result"
    }
   ],
   "source": [
    "# Selecionando todas as tags 'b'\n",
    "parsed_html.select(\"table.pure-table\")[0].find_all(\"b\")"
   ]
  },
  {
   "cell_type": "code",
   "execution_count": 45,
   "id": "ecb44a6a",
   "metadata": {},
   "outputs": [
    {
     "name": "stdout",
     "output_type": "stream",
     "text": [
      "['Color', 'Material', 'Shape', 'Size', 'Weight', 'Radioactivity Level', 'Warranty']\n"
     ]
    }
   ],
   "source": [
    "labels = []\n",
    "\n",
    "# Laço for que coleta o texto das tags 'b' e incrementa na lista 'labels'\n",
    "for label in parsed_html.select(\"table.pure-table\")[0].find_all(\"b\"):\n",
    "    labels.append(label.get_text())\n",
    "print(labels)"
   ]
  },
  {
   "cell_type": "code",
   "execution_count": 100,
   "id": "a3cc8df8",
   "metadata": {},
   "outputs": [
    {
     "data": {
      "text/plain": [
       "[<td>Various</td>,\n",
       " <td>Rubber</td>,\n",
       " <td>Ducky</td>,\n",
       " <td>Medium</td>,\n",
       " <td>394 g</td>,\n",
       " <td>Low</td>,\n",
       " <td>1 year</td>]"
      ]
     },
     "execution_count": 100,
     "metadata": {},
     "output_type": "execute_result"
    }
   ],
   "source": [
    "# Selecionando todas as tags 'td', começando pela segunda busca, e pulando de 2 em 2, sendo que as tags 'td' de indice par não\n",
    "# seriam nescessárias\n",
    "parsed_html.select(\"table.pure-table\")[0].find_all(\"td\")[1::2]"
   ]
  },
  {
   "cell_type": "code",
   "execution_count": 49,
   "id": "a0e30192",
   "metadata": {},
   "outputs": [
    {
     "name": "stdout",
     "output_type": "stream",
     "text": [
      "['Various', 'Rubber', 'Ducky', 'Medium', '394 g', 'Low', '1 year']\n"
     ]
    }
   ],
   "source": [
    "values = []\n",
    "\n",
    "# Laço for que coleta o texto das tags 'td' e incrementa na lista 'values'\n",
    "for value in parsed_html.select(\"table.pure-table\")[0].find_all(\"td\")[1::2]:\n",
    "    values.append(value.get_text())\n",
    "print(values)"
   ]
  },
  {
   "cell_type": "code",
   "execution_count": 50,
   "id": "48e06a3a",
   "metadata": {},
   "outputs": [],
   "source": [
    "properties = []"
   ]
  },
  {
   "cell_type": "code",
   "execution_count": 51,
   "id": "23b52e5c",
   "metadata": {},
   "outputs": [
    {
     "name": "stdout",
     "output_type": "stream",
     "text": [
      "[{'label': 'Color'}, {'label': 'Material'}, {'label': 'Shape'}, {'label': 'Size'}, {'label': 'Weight'}, {'label': 'Radioactivity Level'}, {'label': 'Warranty'}]\n"
     ]
    }
   ],
   "source": [
    "# Para cada nome no campo selecionado, pegar o texto dele e adicionar no campo 'label' da lista 'properties' \n",
    "for label in labels:\n",
    "    properties.append({\n",
    "        \"label\": label\n",
    "    })\n",
    "print(properties)"
   ]
  },
  {
   "cell_type": "code",
   "execution_count": 52,
   "id": "ae7cb5e9",
   "metadata": {},
   "outputs": [
    {
     "name": "stdout",
     "output_type": "stream",
     "text": [
      "[{'label': 'Color', 'value': 'Various'}, {'label': 'Material', 'value': 'Rubber'}, {'label': 'Shape', 'value': 'Ducky'}, {'label': 'Size', 'value': 'Medium'}, {'label': 'Weight', 'value': '394 g'}, {'label': 'Radioactivity Level', 'value': 'Low'}, {'label': 'Warranty', 'value': '1 year'}]\n"
     ]
    }
   ],
   "source": [
    "# Laço for que itera sobre 'properties' e 'values' simultaneamente para adicionar preços atuais\n",
    "for i in range(len(properties)):\n",
    "    # Adiciona o status (values[i]) ao dicionário do produto (properties[i])\n",
    "    properties[i][\"value\"] = values[i]\n",
    "print(properties)"
   ]
  },
  {
   "cell_type": "code",
   "execution_count": 53,
   "id": "5318070e",
   "metadata": {},
   "outputs": [
    {
     "data": {
      "text/plain": [
       "[<div class=\"pure-u-21-24\">\n",
       " <span class=\"analiseusername\">Louisa Eliel</span>\n",
       " <span class=\"analisedate\">28/07/2021</span>\n",
       " <span class=\"analisestars\">★★★★☆</span>\n",
       " </div>,\n",
       " <div class=\"pure-u-21-24\">\n",
       " <span class=\"analiseusername\">Kairo Josué</span>\n",
       " <span class=\"analisedate\">12/05/2021</span>\n",
       " <span class=\"analisestars\">★☆☆☆☆</span>\n",
       " </div>,\n",
       " <div class=\"pure-u-21-24\">\n",
       " <span class=\"analiseusername\">Victor Huey</span>\n",
       " <span class=\"analisedate\">03/04/2021</span>\n",
       " <span class=\"analisestars\">★★★★★</span>\n",
       " </div>]"
      ]
     },
     "execution_count": 53,
     "metadata": {},
     "output_type": "execute_result"
    }
   ],
   "source": [
    "# Selecionando os dados necessarios para o campo 'reviews'\n",
    "parsed_html.select(\".pure-u-21-24\")"
   ]
  },
  {
   "cell_type": "code",
   "execution_count": 56,
   "id": "556cee29",
   "metadata": {},
   "outputs": [
    {
     "data": {
      "text/plain": [
       "[<span class=\"analiseusername\">Louisa Eliel</span>,\n",
       " <span class=\"analiseusername\">Kairo Josué</span>,\n",
       " <span class=\"analiseusername\">Victor Huey</span>]"
      ]
     },
     "execution_count": 56,
     "metadata": {},
     "output_type": "execute_result"
    }
   ],
   "source": [
    "# Selecionando os dados de class='analiseusername'\n",
    "parsed_html.select(\".analiseusername\")"
   ]
  },
  {
   "cell_type": "code",
   "execution_count": 58,
   "id": "40d0ff7b",
   "metadata": {},
   "outputs": [],
   "source": [
    "names = []"
   ]
  },
  {
   "cell_type": "code",
   "execution_count": 59,
   "id": "ab26613f",
   "metadata": {},
   "outputs": [
    {
     "name": "stdout",
     "output_type": "stream",
     "text": [
      "['Louisa Eliel', 'Kairo Josué', 'Victor Huey']\n"
     ]
    }
   ],
   "source": [
    "# Laço for que coleta o texto da class='analiseusername' e incrementa na lista 'names'\n",
    "for name in parsed_html.select(\".analiseusername\"):\n",
    "    names.append(name.get_text())\n",
    "print(names)"
   ]
  },
  {
   "cell_type": "code",
   "execution_count": 60,
   "id": "08ebb898",
   "metadata": {},
   "outputs": [
    {
     "data": {
      "text/plain": [
       "[<span class=\"analisedate\">28/07/2021</span>,\n",
       " <span class=\"analisedate\">12/05/2021</span>,\n",
       " <span class=\"analisedate\">03/04/2021</span>]"
      ]
     },
     "execution_count": 60,
     "metadata": {},
     "output_type": "execute_result"
    }
   ],
   "source": [
    "# Selecionando os dados de class='analisedate'\n",
    "parsed_html.select(\".analisedate\")"
   ]
  },
  {
   "cell_type": "code",
   "execution_count": 61,
   "id": "e2579399",
   "metadata": {},
   "outputs": [],
   "source": [
    "dates = []"
   ]
  },
  {
   "cell_type": "code",
   "execution_count": 62,
   "id": "5f15e128",
   "metadata": {},
   "outputs": [
    {
     "name": "stdout",
     "output_type": "stream",
     "text": [
      "['28/07/2021', '12/05/2021', '03/04/2021']\n"
     ]
    }
   ],
   "source": [
    "# Laço for que coleta o texto da class='analisedate' e incrementa na lista 'dates'\n",
    "for date in parsed_html.select(\".analisedate\"):\n",
    "    dates.append(date.get_text())\n",
    "print(dates)"
   ]
  },
  {
   "cell_type": "code",
   "execution_count": 63,
   "id": "418cc29c",
   "metadata": {},
   "outputs": [
    {
     "data": {
      "text/plain": [
       "[<span class=\"analisestars\">★★★★☆</span>,\n",
       " <span class=\"analisestars\">★☆☆☆☆</span>,\n",
       " <span class=\"analisestars\">★★★★★</span>]"
      ]
     },
     "execution_count": 63,
     "metadata": {},
     "output_type": "execute_result"
    }
   ],
   "source": [
    "# Selecionando os dados de class='analisestars'\n",
    "parsed_html.select(\".analisestars\")"
   ]
  },
  {
   "cell_type": "code",
   "execution_count": 66,
   "id": "0b7f3202",
   "metadata": {},
   "outputs": [],
   "source": [
    "stars_simbolo = []"
   ]
  },
  {
   "cell_type": "code",
   "execution_count": 67,
   "id": "e80f0f50",
   "metadata": {},
   "outputs": [
    {
     "name": "stdout",
     "output_type": "stream",
     "text": [
      "['★★★★☆', '★☆☆☆☆', '★★★★★']\n"
     ]
    }
   ],
   "source": [
    "# Laço for que coleta o texto da class='analisestars' e incrementa na lista 'stars_simbolo'\n",
    "for star in parsed_html.select(\".analisestars\"):\n",
    "    stars_simbolo.append(star.get_text())\n",
    "print(stars_simbolo)"
   ]
  },
  {
   "cell_type": "code",
   "execution_count": 101,
   "id": "a507aa94",
   "metadata": {},
   "outputs": [
    {
     "data": {
      "text/plain": [
       "[4, 1, 5]"
      ]
     },
     "execution_count": 101,
     "metadata": {},
     "output_type": "execute_result"
    }
   ],
   "source": [
    "# Converte cada avaliação em estrelas (ex: '★★★★☆') para um número inteiro  \n",
    "# que representa a quantidade de estrelas preenchidas ('★')\n",
    "stars = [int(avaliacao.count('★')) for avaliacao in stars_simbolo]\n",
    "stars"
   ]
  },
  {
   "cell_type": "code",
   "execution_count": 77,
   "id": "1cb74c66",
   "metadata": {},
   "outputs": [
    {
     "data": {
      "text/plain": [
       "[<p>Very good rubber ducks, however I think they are a bit too big for me.</p>,\n",
       " <p>Péssima qualidade. Já não fazem patos de borracha como antigamente.</p>,\n",
       " <p>Very good</p>]"
      ]
     },
     "execution_count": 77,
     "metadata": {},
     "output_type": "execute_result"
    }
   ],
   "source": [
    "# Selecionando os dados de class='analisebox' seguido pela tag 'p'\n",
    "parsed_html.select(\".analisebox p\")"
   ]
  },
  {
   "cell_type": "code",
   "execution_count": 78,
   "id": "4390cb0c",
   "metadata": {},
   "outputs": [],
   "source": [
    "texts = []"
   ]
  },
  {
   "cell_type": "code",
   "execution_count": 79,
   "id": "2441de18",
   "metadata": {},
   "outputs": [
    {
     "name": "stdout",
     "output_type": "stream",
     "text": [
      "['Very good rubber ducks, however I think they are a bit too big for me.', 'Péssima qualidade. Já não fazem patos de borracha como antigamente.', 'Very good']\n"
     ]
    }
   ],
   "source": [
    "# Laço for que coleta o texto da class='analisebox' seguido pela tag 'p' e incrementa na lista 'texts'\n",
    "for text in parsed_html.select(\".analisebox p\"):\n",
    "    texts.append(text.get_text())\n",
    "print(texts)"
   ]
  },
  {
   "cell_type": "code",
   "execution_count": 80,
   "id": "0ebec2d4",
   "metadata": {},
   "outputs": [],
   "source": [
    "reviews = []"
   ]
  },
  {
   "cell_type": "code",
   "execution_count": 81,
   "id": "90f04dce",
   "metadata": {},
   "outputs": [
    {
     "name": "stdout",
     "output_type": "stream",
     "text": [
      "[{'name': 'Louisa Eliel'}, {'name': 'Kairo Josué'}, {'name': 'Victor Huey'}]\n"
     ]
    }
   ],
   "source": [
    "# Laço for que coleta cada texto da lista 'names' e incrementa na lista 'reviews'\n",
    "for name in names:\n",
    "    reviews.append({\n",
    "        \"name\": name\n",
    "    })\n",
    "print(reviews)"
   ]
  },
  {
   "cell_type": "code",
   "execution_count": 96,
   "id": "f611acd2",
   "metadata": {},
   "outputs": [
    {
     "name": "stdout",
     "output_type": "stream",
     "text": [
      "[{'name': 'Louisa Eliel', 'date': '28/07/2021'}, {'name': 'Kairo Josué', 'date': '12/05/2021'}, {'name': 'Victor Huey', 'date': '03/04/2021'}]\n"
     ]
    }
   ],
   "source": [
    "for i in range(len(reviews)):\n",
    "    # Adiciona o data (dates[i]) ao dicionário da review (reviews[i])\n",
    "    reviews[i][\"date\"] = dates[i]\n",
    "print(reviews)"
   ]
  },
  {
   "cell_type": "code",
   "execution_count": 98,
   "id": "6460cc21",
   "metadata": {},
   "outputs": [
    {
     "name": "stdout",
     "output_type": "stream",
     "text": [
      "[{'name': 'Louisa Eliel', 'date': '28/07/2021', 'score': 4}, {'name': 'Kairo Josué', 'date': '12/05/2021', 'score': 1}, {'name': 'Victor Huey', 'date': '03/04/2021', 'score': 5}]\n"
     ]
    }
   ],
   "source": [
    "for i in range(len(reviews)):\n",
    "    # Adiciona o score (stars[i]) ao dicionário da review (reviews[i])\n",
    "    reviews[i][\"score\"] = stars[i]\n",
    "print(reviews)"
   ]
  },
  {
   "cell_type": "code",
   "execution_count": 99,
   "id": "dcf037ce",
   "metadata": {},
   "outputs": [
    {
     "name": "stdout",
     "output_type": "stream",
     "text": [
      "[{'name': 'Louisa Eliel', 'date': '28/07/2021', 'score': 4, 'text': 'Very good rubber ducks, however I think they are a bit too big for me.'}, {'name': 'Kairo Josué', 'date': '12/05/2021', 'score': 1, 'text': 'Péssima qualidade. Já não fazem patos de borracha como antigamente.'}, {'name': 'Victor Huey', 'date': '03/04/2021', 'score': 5, 'text': 'Very good'}]\n"
     ]
    }
   ],
   "source": [
    "for i in range(len(reviews)):\n",
    "    # Adiciona o text (texts[i]) ao dicionário da review (reviews[i])\n",
    "    reviews[i][\"text\"] = texts[i]\n",
    "print(reviews)"
   ]
  },
  {
   "cell_type": "code",
   "execution_count": 120,
   "id": "2750b509",
   "metadata": {},
   "outputs": [
    {
     "data": {
      "text/plain": [
       "'Average score: 3.3/5'"
      ]
     },
     "execution_count": 120,
     "metadata": {},
     "output_type": "execute_result"
    }
   ],
   "source": [
    "parsed_html.select_one(\"#comments h4\").get_text()"
   ]
  },
  {
   "cell_type": "code",
   "execution_count": 121,
   "id": "9cce646c",
   "metadata": {},
   "outputs": [],
   "source": [
    "# Atribuindo o texto que contém o 'Average score' a um objeto\n",
    "ava_scr = parsed_html.select_one(\"#comments h4\").get_text()"
   ]
  },
  {
   "cell_type": "code",
   "execution_count": 122,
   "id": "d4be73ef",
   "metadata": {},
   "outputs": [
    {
     "data": {
      "text/plain": [
       "3.3"
      ]
     },
     "execution_count": 122,
     "metadata": {},
     "output_type": "execute_result"
    }
   ],
   "source": [
    "# Extrai o valor float usando split() e atrivui a variavel 'reviews_average_score'\n",
    "reviews_average_score = float(ava_scr.split(':')[1].split('/')[0].strip())\n",
    "reviews_average_score"
   ]
  },
  {
   "cell_type": "code",
   "execution_count": 123,
   "id": "83666a7c",
   "metadata": {},
   "outputs": [],
   "source": [
    "# Atribuindo ao objeto 'url' o endereço do desafio\n",
    "url = \"https://infosimples.com/vagas/desafio/commercia/product.html\""
   ]
  },
  {
   "cell_type": "code",
   "execution_count": 124,
   "id": "63c0f069",
   "metadata": {},
   "outputs": [
    {
     "data": {
      "text/plain": [
       "'https://infosimples.com/vagas/desafio/commercia/product.html'"
      ]
     },
     "execution_count": 124,
     "metadata": {},
     "output_type": "execute_result"
    }
   ],
   "source": [
    "url"
   ]
  },
  {
   "cell_type": "code",
   "execution_count": 173,
   "id": "a1050ff8",
   "metadata": {},
   "outputs": [],
   "source": [
    "# Criando o objeto que conterá a resposta final\n",
    "resposta_final = {}"
   ]
  },
  {
   "cell_type": "code",
   "execution_count": 174,
   "id": "6351a925",
   "metadata": {},
   "outputs": [
    {
     "data": {
      "text/plain": [
       "{'title': 'Rubber Duck MK Ultra',\n",
       " 'brand': 'Duck Makers Inc.',\n",
       " 'categories': ['Commercia', 'Health & Care', 'Bath', 'Rubber Ducks'],\n",
       " 'description': 'Apresentando os Patos de Borracha Quânticos, a última palavra em diversão aquática! Criados pelo excêntrico Dr. Quacksalot, esses patinhos de borracha vão além do comum, com habilidades de fala, dança e personalidades únicas. Com sua durabilidade de alta qualidade, esses patos são garantia de diversão interminável na banheira. Escolha entre uma variedade de cores e estilos e mergulhe na loucura científica do Dr. Quacksalot hoje mesmo! Cada Patinho de Borracha Quântico vem equipado com um sistema de comunicação interdimensional, permitindo que eles conversem não apenas entre si, mas também com outros objetos inanimados no banheiro - prepare-se para diálogos improváveis entre seu pato de borracha e o sabonete! Além disso, esses patos têm uma habilidade secreta de transformação: basta apertar sua barriguinha e assistir enquanto se transformam em mini submarinos de borracha, prontos para explorar os confins da banheira em busca de aventuras subaquáticas surreais. Com os Patos de Borracha Quânticos, o limite da diversão é apenas sua imaginação (e talvez a sanidade do Dr. Quacksalot)!',\n",
       " 'skus': [{'name': 'Rubber Duck MK Ultra - Original',\n",
       "   'current_price': 12.68,\n",
       "   'old_price': 16.98,\n",
       "   'available': 1},\n",
       "  {'name': 'Rubber Duck MK Ultra - Summer Version',\n",
       "   'current_price': None,\n",
       "   'old_price': None,\n",
       "   'available': 0},\n",
       "  {'name': 'Rubber Duck MK Ultra - Batman Version',\n",
       "   'current_price': 18.98,\n",
       "   'old_price': None,\n",
       "   'available': 1}],\n",
       " 'properties': [{'label': 'Color', 'value': 'Various'},\n",
       "  {'label': 'Material', 'value': 'Rubber'},\n",
       "  {'label': 'Shape', 'value': 'Ducky'},\n",
       "  {'label': 'Size', 'value': 'Medium'},\n",
       "  {'label': 'Weight', 'value': '394 g'},\n",
       "  {'label': 'Radioactivity Level', 'value': 'Low'},\n",
       "  {'label': 'Warranty', 'value': '1 year'}],\n",
       " 'reviews': [{'name': 'Louisa Eliel',\n",
       "   'date': '28/07/2021',\n",
       "   'score': 4,\n",
       "   'text': 'Very good rubber ducks, however I think they are a bit too big for me.'},\n",
       "  {'name': 'Kairo Josué',\n",
       "   'date': '12/05/2021',\n",
       "   'score': 1,\n",
       "   'text': 'Péssima qualidade. Já não fazem patos de borracha como antigamente.'},\n",
       "  {'name': 'Victor Huey',\n",
       "   'date': '03/04/2021',\n",
       "   'score': 5,\n",
       "   'text': 'Very good'}],\n",
       " 'reviews_average_score': 3.3,\n",
       " 'url': 'https://infosimples.com/vagas/desafio/commercia/product.html'}"
      ]
     },
     "execution_count": 174,
     "metadata": {},
     "output_type": "execute_result"
    }
   ],
   "source": [
    "# Atribuindo os objetos que contem as respostas de cada campo para a resposta final\n",
    "resposta_final['title'] = parsed_html.select_one('h2#product_title').get_text()\n",
    "resposta_final['brand'] = parsed_html.select_one(\"div.brand\").get_text()\n",
    "resposta_final['categories'] = categories\n",
    "resposta_final['description'] = description\n",
    "resposta_final['skus'] = skus\n",
    "resposta_final['properties'] = properties\n",
    "resposta_final['reviews'] = reviews\n",
    "resposta_final['reviews_average_score'] = reviews_average_score\n",
    "resposta_final['url'] = url\n",
    "resposta_final"
   ]
  },
  {
   "cell_type": "code",
   "execution_count": 182,
   "id": "355531d2",
   "metadata": {},
   "outputs": [],
   "source": [
    "json_resposta_final = {}"
   ]
  },
  {
   "cell_type": "code",
   "execution_count": 183,
   "id": "cbb81890",
   "metadata": {},
   "outputs": [],
   "source": [
    "# Gerando o JSON com ensure_ascii=False, codificação UTF-8 e indent=4 para melhorar a visualização do arquivo json \n",
    "with open(\"produto.json\", \"w\", encoding='utf-8') as arquivo_json:\n",
    "    json.dump(resposta_final, arquivo_json, ensure_ascii=False, indent=4)"
   ]
  }
 ],
 "metadata": {
  "kernelspec": {
   "display_name": "Python 3 (ipykernel)",
   "language": "python",
   "name": "python3"
  },
  "language_info": {
   "codemirror_mode": {
    "name": "ipython",
    "version": 3
   },
   "file_extension": ".py",
   "mimetype": "text/x-python",
   "name": "python",
   "nbconvert_exporter": "python",
   "pygments_lexer": "ipython3",
   "version": "3.11.5"
  }
 },
 "nbformat": 4,
 "nbformat_minor": 5
}
